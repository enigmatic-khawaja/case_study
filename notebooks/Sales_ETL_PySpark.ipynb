{
 "cells": [
  {
   "cell_type": "code",
   "execution_count": 2,
   "id": "e9059961",
   "metadata": {
    "tags": []
   },
   "outputs": [],
   "source": [
    "import sys\n",
    "import os\n",
    "sys.path.insert(0, os.path.abspath('../src'))"
   ]
  },
  {
   "cell_type": "code",
   "execution_count": 3,
   "id": "72da1229",
   "metadata": {
    "tags": []
   },
   "outputs": [],
   "source": [
    "# Import your existing modules\n",
    "from main import ETLPipeline\n",
    "from utils.config import get_config\n",
    "from utils.logging import get_logger\n",
    "\n",
    "# Initialize logging\n",
    "logger = get_logger(\"ETLNotebook\")"
   ]
  },
  {
   "cell_type": "code",
   "execution_count": 4,
   "id": "2d6b5575",
   "metadata": {
    "tags": []
   },
   "outputs": [
    {
     "name": "stdout",
     "output_type": "stream",
     "text": [
      "2025-07-23 19:01:04,011 - console_console - INFO - Configuration loaded\n",
      "2025-07-23 19:01:04,015 - console_console - INFO - Pipeline started: SalesETLPipeline\n",
      "2025-07-23 19:01:04,016 - console_console - INFO - Pipeline started at 2025-07-23T19:01:04.014714\n",
      "2025-07-23 19:01:04,017 - console_console - INFO - Loading configuration...\n",
      "2025-07-23 19:01:04,019 - console_console - INFO - Initializing Spark session...\n"
     ]
    },
    {
     "name": "stderr",
     "output_type": "stream",
     "text": [
      "Setting default log level to \"WARN\".\n",
      "To adjust logging level use sc.setLogLevel(newLevel). For SparkR, use setLogLevel(newLevel).\n",
      "25/07/23 19:01:07 WARN NativeCodeLoader: Unable to load native-hadoop library for your platform... using builtin-java classes where applicable\n"
     ]
    },
    {
     "name": "stdout",
     "output_type": "stream",
     "text": [
      "2025-07-23 19:01:08,630 - console_console - INFO - Spark session created with config: {}\n",
      "2025-07-23 19:01:08,632 - console_console - INFO - === STAGE 1: DATA INGESTION ===\n",
      "2025-07-23 19:01:08,634 - console_console - INFO - Starting data ingestion process.\n",
      "2025-07-23 19:01:08,636 - console_console - INFO - Starting data ingestion process\n",
      "2025-07-23 19:01:08,640 - console_console - INFO - Reading sales data from: data/raw/sales_data.csv\n",
      "2025-07-23 19:01:14,011 - console_console - INFO - Successfully read 20 sales records\n",
      "2025-07-23 19:01:14,015 - console_console - INFO - Reading product reference data from: data/raw/product_reference.csv\n",
      "2025-07-23 19:01:14,285 - console_console - INFO - Successfully read 10 product reference records\n",
      "2025-07-23 19:01:14,287 - console_console - INFO - Sales data schema validation passed\n",
      "2025-07-23 19:01:14,289 - console_console - INFO - Product reference schema validation passed\n",
      "2025-07-23 19:01:16,799 - console_console - INFO - Data summary: {'sales_records': 20, 'product_records': 10, 'null_counts': {'OrderID': 0, 'ProductID': 0, 'SaleAmount': 1, 'OrderDate': 1, 'Region': 0, 'Currency': 0}, 'unique_regions': 4, 'unique_currencies': 3, 'unique_products': 11, 'ingestion_timestamp': '2025-07-23T19:01:16.798526'}\n",
      "2025-07-23 19:01:16,809 - console_console - INFO - Saved data summary to: data/processed/raw_data_summary.json\n",
      "2025-07-23 19:01:16,811 - console_console - INFO - Data ingestion completed successfully\n",
      "2025-07-23 19:01:16,819 - console_console - INFO - Data ingestion completed in 8.18 seconds. Sales records: 20, Product records: 10\n",
      "2025-07-23 19:01:16,822 - console_console - INFO - === STAGE 2: DATA CLEANING ===\n",
      "2025-07-23 19:01:16,828 - console_console - INFO - Starting data cleaning process.\n",
      "2025-07-23 19:01:16,832 - console_console - INFO - Starting data cleaning process\n",
      "2025-07-23 19:01:17,296 - console_console - WARNING - Found 2 records with missing required fields\n"
     ]
    },
    {
     "name": "stderr",
     "output_type": "stream",
     "text": [
      "                                                                                \r"
     ]
    },
    {
     "name": "stdout",
     "output_type": "stream",
     "text": [
      "2025-07-23 19:01:20,791 - console_console - INFO - Removed 1 duplicate records\n",
      "2025-07-23 19:01:21,216 - console_console - INFO - Using rejection rate threshold: 15.00%\n",
      "2025-07-23 19:01:21,219 - console_console - INFO - Data cleaning completed. Final records: 17\n",
      "2025-07-23 19:01:21,221 - console_console - INFO - Data validation completed: 17/20 records valid (10.00% error rate)\n",
      "2025-07-23 19:01:21,264 - console_console - INFO - Saved 2 rejected records to data/rejected/rejected_records.csv\n",
      "2025-07-23 19:01:21,267 - console_console - INFO - Data cleaning completed in 4.44 seconds. Initial: 20, Final: 17, Rejected: 2\n",
      "2025-07-23 19:01:21,270 - console_console - INFO - === STAGE 3: DATA ENRICHMENT ===\n",
      "2025-07-23 19:01:21,274 - console_console - INFO - Starting data enrichment process.\n",
      "2025-07-23 19:01:21,276 - console_console - INFO - Starting data enrichment process\n",
      "2025-07-23 19:01:21,556 - console_console - INFO - Initial records for enrichment: 17\n",
      "2025-07-23 19:01:21,558 - console_console - INFO - Starting product enrichment...\n",
      "2025-07-23 19:01:21,559 - console_console - INFO - Starting product data enrichment\n",
      "2025-07-23 19:01:22,377 - console_console - INFO - Product enrichment completed: 17/17 records enriched\n",
      "2025-07-23 19:01:22,690 - console_console - INFO - Product enrichment complete. Product-enriched records: 17\n",
      "2025-07-23 19:01:22,692 - console_console - INFO - Starting currency conversion...\n",
      "2025-07-23 19:01:22,695 - console_console - INFO - Starting currency conversion\n",
      "2025-07-23 19:01:23,171 - console_console - INFO - Pre-fetching exchange rates for currencies: ['GBP', 'EUR']\n",
      "2025-07-23 19:01:23,801 - console_console - INFO - Currency conversion: GBP -> USD (rate: 1.35)\n",
      "2025-07-23 19:01:24,329 - console_console - INFO - Currency conversion: EUR -> USD (rate: 1.17)\n",
      "2025-07-23 19:01:25,086 - console_console - INFO - Currency conversion completed: 8/17 records converted\n",
      "2025-07-23 19:01:25,507 - console_console - INFO - Currency conversion complete. Converted records: 8\n",
      "2025-07-23 19:01:25,509 - console_console - INFO - Adding processing metadata...\n",
      "2025-07-23 19:01:25,626 - console_console - INFO - Added processing metadata\n",
      "2025-07-23 19:01:25,628 - console_console - INFO - Processing metadata added.\n",
      "2025-07-23 19:01:25,630 - console_console - INFO - Finalizing sales data formatting...\n",
      "2025-07-23 19:01:25,689 - console_console - INFO - Sales data formatting finalized.\n",
      "2025-07-23 19:01:25,974 - console_console - INFO - Data enrichment completed. Final records: 17\n",
      "2025-07-23 19:01:25,979 - console_console - INFO - Enrichment summary saved to data/processed/enrichment_summary.json\n",
      "2025-07-23 19:01:27,545 - console_console - INFO - Processed (enriched) records saved to CSV at data/processed/cleaned_sales_data.csv\n",
      "2025-07-23 19:01:27,547 - console_console - INFO - === STAGE 4: DATA LOADING ===\n",
      "2025-07-23 19:01:27,551 - console_console - INFO - Starting data loading process.\n",
      "2025-07-23 19:01:27,553 - console_console - INFO - Starting data loading process\n",
      "2025-07-23 19:01:27,555 - console_console - INFO - Creating database schema (drop and recreate tables)\n",
      "2025-07-23 19:01:27,710 - console_console - INFO - Ensured ETLDatabase exists.\n",
      "2025-07-23 19:01:27,734 - console_console - INFO - Database engine created successfully for ETLDatabase.\n",
      "2025-07-23 19:01:27,790 - console_console - INFO - Database schema created successfully. Tables created: []\n",
      "2025-07-23 19:01:27,792 - console_console - INFO - Loading sales data into SalesData\n",
      "2025-07-23 19:01:28,238 - console_console - INFO - DataFrame columns: ['OrderID', 'ProductID', 'SaleAmount', 'OrderDate', 'Region', 'CustomerID', 'Discount', 'Currency', 'ProductName', 'Category', 'OriginalSaleAmount', 'OriginalCurrency', 'ExchangeRate', 'ProcessingTimestamp']\n",
      "2025-07-23 19:01:28,241 - console_console - INFO - DataFrame dtypes before fix: OrderID                 object\n",
      "ProductID               object\n",
      "SaleAmount             float64\n",
      "OrderDate               object\n",
      "Region                  object\n",
      "CustomerID              object\n",
      "Discount               float64\n",
      "Currency                object\n",
      "ProductName             object\n",
      "Category                object\n",
      "OriginalSaleAmount     float64\n",
      "OriginalCurrency        object\n",
      "ExchangeRate           float64\n",
      "ProcessingTimestamp     object\n",
      "dtype: object\n",
      "2025-07-23 19:01:28,243 - console_console - INFO - Sample row: {'OrderID': '1001', 'ProductID': 'P50', 'SaleAmount': 300.0, 'OrderDate': '2023-05-01 00:00:00', 'Region': 'East', 'CustomerID': 'C100', 'Discount': 0.1, 'Currency': 'USD', 'ProductName': 'Wireless Mouse', 'Category': 'Electronics', 'OriginalSaleAmount': 299.99, 'OriginalCurrency': 'USD', 'ExchangeRate': 1.0, 'ProcessingTimestamp': '2025-07-23 19:01:25.510759'}\n",
      "2025-07-23 19:01:28,256 - console_console - INFO - Dtypes after final datetime fix: OrderID                        object\n",
      "ProductID                      object\n",
      "SaleAmount                    float64\n",
      "OrderDate              datetime64[ns]\n",
      "Region                         object\n",
      "CustomerID                     object\n",
      "Discount                      float64\n",
      "Currency                       object\n",
      "ProductName                    object\n",
      "Category                       object\n",
      "OriginalSaleAmount            float64\n",
      "OriginalCurrency               object\n",
      "ExchangeRate                  float64\n",
      "ProcessingTimestamp    datetime64[ns]\n",
      "dtype: object\n",
      "2025-07-23 19:01:28,260 - console_console - INFO - Sample row after fix: {'OrderID': '1001', 'ProductID': 'P50', 'SaleAmount': 300.0, 'OrderDate': Timestamp('2023-05-01 00:00:00'), 'Region': 'East', 'CustomerID': 'C100', 'Discount': 0.1, 'Currency': 'USD', 'ProductName': 'Wireless Mouse', 'Category': 'Electronics', 'OriginalSaleAmount': 299.99, 'OriginalCurrency': 'USD', 'ExchangeRate': 1.0, 'ProcessingTimestamp': Timestamp('2025-07-23 19:01:25.510759')}\n",
      "2025-07-23 19:01:28,348 - console_console - ERROR - Failed to load data into SalesData | IntegrityError: (pymssql._pymssql.IntegrityError) (2627, b\"Violation of PRIMARY KEY constraint 'PK__SalesDat__C3905BAF3A32A7E5'. Cannot insert duplicate key in object 'dbo.SalesData'. The duplicate key value is (1001).DB-Lib error message 20018, severity 14:\\nGeneral SQL Server error: Check messages from the SQL Server\\n\")\n",
      "[SQL: INSERT INTO [SalesData] ([OrderID], [ProductID], [ProductName], [Category], [SaleAmount], [OriginalSaleAmount], [OriginalCurrency], [ExchangeRate], [OrderDate], [Region], [CustomerID], [Discount], [Currency], [ProcessingTimestamp]) VALUES (%(OrderID_m0)s, %(ProductID_m0)s, %(ProductName_m0)s, %(Category_m0)s, %(SaleAmount_m0)s, %(OriginalSaleAmount_m0)s, %(OriginalCurrency_m0)s, %(ExchangeRate_m0)s, %(OrderDate_m0)s, %(Region_m0)s, %(CustomerID_m0)s, %(Discount_m0)s, %(Currency_m0)s, %(ProcessingTimestamp_m0)s), (%(OrderID_m1)s, %(ProductID_m1)s, %(ProductName_m1)s, %(Category_m1)s, %(SaleAmount_m1)s, %(OriginalSaleAmount_m1)s, %(OriginalCurrency_m1)s, %(ExchangeRate_m1)s, %(OrderDate_m1)s, %(Region_m1)s, %(CustomerID_m1)s, %(Discount_m1)s, %(Currency_m1)s, %(ProcessingTimestamp_m1)s), (%(OrderID_m2)s, %(ProductID_m2)s, %(ProductName_m2)s, %(Category_m2)s, %(SaleAmount_m2)s, %(OriginalSaleAmount_m2)s, %(OriginalCurrency_m2)s, %(ExchangeRate_m2)s, %(OrderDate_m2)s, %(Region_m2)s, %(CustomerID_m2)s, %(Discount_m2)s, %(Currency_m2)s, %(ProcessingTimestamp_m2)s), (%(OrderID_m3)s, %(ProductID_m3)s, %(ProductName_m3)s, %(Category_m3)s, %(SaleAmount_m3)s, %(OriginalSaleAmount_m3)s, %(OriginalCurrency_m3)s, %(ExchangeRate_m3)s, %(OrderDate_m3)s, %(Region_m3)s, %(CustomerID_m3)s, %(Discount_m3)s, %(Currency_m3)s, %(ProcessingTimestamp_m3)s), (%(OrderID_m4)s, %(ProductID_m4)s, %(ProductName_m4)s, %(Category_m4)s, %(SaleAmount_m4)s, %(OriginalSaleAmount_m4)s, %(OriginalCurrency_m4)s, %(ExchangeRate_m4)s, %(OrderDate_m4)s, %(Region_m4)s, %(CustomerID_m4)s, %(Discount_m4)s, %(Currency_m4)s, %(ProcessingTimestamp_m4)s), (%(OrderID_m5)s, %(ProductID_m5)s, %(ProductName_m5)s, %(Category_m5)s, %(SaleAmount_m5)s, %(OriginalSaleAmount_m5)s, %(OriginalCurrency_m5)s, %(ExchangeRate_m5)s, %(OrderDate_m5)s, %(Region_m5)s, %(CustomerID_m5)s, %(Discount_m5)s, %(Currency_m5)s, %(ProcessingTimestamp_m5)s), (%(OrderID_m6)s, %(ProductID_m6)s, %(ProductName_m6)s, %(Category_m6)s, %(SaleAmount_m6)s, %(OriginalSaleAmount_m6)s, %(OriginalCurrency_m6)s, %(ExchangeRate_m6)s, %(OrderDate_m6)s, %(Region_m6)s, %(CustomerID_m6)s, %(Discount_m6)s, %(Currency_m6)s, %(ProcessingTimestamp_m6)s), (%(OrderID_m7)s, %(ProductID_m7)s, %(ProductName_m7)s, %(Category_m7)s, %(SaleAmount_m7)s, %(OriginalSaleAmount_m7)s, %(OriginalCurrency_m7)s, %(ExchangeRate_m7)s, %(OrderDate_m7)s, %(Region_m7)s, %(CustomerID_m7)s, %(Discount_m7)s, %(Currency_m7)s, %(ProcessingTimestamp_m7)s), (%(OrderID_m8)s, %(ProductID_m8)s, %(ProductName_m8)s, %(Category_m8)s, %(SaleAmount_m8)s, %(OriginalSaleAmount_m8)s, %(OriginalCurrency_m8)s, %(ExchangeRate_m8)s, %(OrderDate_m8)s, %(Region_m8)s, %(CustomerID_m8)s, %(Discount_m8)s, %(Currency_m8)s, %(ProcessingTimestamp_m8)s), (%(OrderID_m9)s, %(ProductID_m9)s, %(ProductName_m9)s, %(Category_m9)s, %(SaleAmount_m9)s, %(OriginalSaleAmount_m9)s, %(OriginalCurrency_m9)s, %(ExchangeRate_m9)s, %(OrderDate_m9)s, %(Region_m9)s, %(CustomerID_m9)s, %(Discount_m9)s, %(Currency_m9)s, %(ProcessingTimestamp_m9)s), (%(OrderID_m10)s, %(ProductID_m10)s, %(ProductName_m10)s, %(Category_m10)s, %(SaleAmount_m10)s, %(OriginalSaleAmount_m10)s, %(OriginalCurrency_m10)s, %(ExchangeRate_m10)s, %(OrderDate_m10)s, %(Region_m10)s, %(CustomerID_m10)s, %(Discount_m10)s, %(Currency_m10)s, %(ProcessingTimestamp_m10)s), (%(OrderID_m11)s, %(ProductID_m11)s, %(ProductName_m11)s, %(Category_m11)s, %(SaleAmount_m11)s, %(OriginalSaleAmount_m11)s, %(OriginalCurrency_m11)s, %(ExchangeRate_m11)s, %(OrderDate_m11)s, %(Region_m11)s, %(CustomerID_m11)s, %(Discount_m11)s, %(Currency_m11)s, %(ProcessingTimestamp_m11)s), (%(OrderID_m12)s, %(ProductID_m12)s, %(ProductName_m12)s, %(Category_m12)s, %(SaleAmount_m12)s, %(OriginalSaleAmount_m12)s, %(OriginalCurrency_m12)s, %(ExchangeRate_m12)s, %(OrderDate_m12)s, %(Region_m12)s, %(CustomerID_m12)s, %(Discount_m12)s, %(Currency_m12)s, %(ProcessingTimestamp_m12)s), (%(OrderID_m13)s, %(ProductID_m13)s, %(ProductName_m13)s, %(Category_m13)s, %(SaleAmount_m13)s, %(OriginalSaleAmount_m13)s, %(OriginalCurrency_m13)s, %(ExchangeRate_m13)s, %(OrderDate_m13)s, %(Region_m13)s, %(CustomerID_m13)s, %(Discount_m13)s, %(Currency_m13)s, %(ProcessingTimestamp_m13)s), (%(OrderID_m14)s, %(ProductID_m14)s, %(ProductName_m14)s, %(Category_m14)s, %(SaleAmount_m14)s, %(OriginalSaleAmount_m14)s, %(OriginalCurrency_m14)s, %(ExchangeRate_m14)s, %(OrderDate_m14)s, %(Region_m14)s, %(CustomerID_m14)s, %(Discount_m14)s, %(Currency_m14)s, %(ProcessingTimestamp_m14)s), (%(OrderID_m15)s, %(ProductID_m15)s, %(ProductName_m15)s, %(Category_m15)s, %(SaleAmount_m15)s, %(OriginalSaleAmount_m15)s, %(OriginalCurrency_m15)s, %(ExchangeRate_m15)s, %(OrderDate_m15)s, %(Region_m15)s, %(CustomerID_m15)s, %(Discount_m15)s, %(Currency_m15)s, %(ProcessingTimestamp_m15)s), (%(OrderID_m16)s, %(ProductID_m16)s, %(ProductName_m16)s, %(Category_m16)s, %(SaleAmount_m16)s, %(OriginalSaleAmount_m16)s, %(OriginalCurrency_m16)s, %(ExchangeRate_m16)s, %(OrderDate_m16)s, %(Region_m16)s, %(CustomerID_m16)s, %(Discount_m16)s, %(Currency_m16)s, %(ProcessingTimestamp_m16)s)]\n",
      "[parameters: {'OrderID_m0': '1001', 'ProductID_m0': 'P50', 'ProductName_m0': 'Wireless Mouse', 'Category_m0': 'Electronics', 'SaleAmount_m0': 300.0, 'OriginalSaleAmount_m0': 299.99, 'OriginalCurrency_m0': 'USD', 'ExchangeRate_m0': 1.0, 'OrderDate_m0': datetime.datetime(2023, 5, 1, 0, 0), 'Region_m0': 'East', 'CustomerID_m0': 'C100', 'Discount_m0': 0.1, 'Currency_m0': 'USD', 'ProcessingTimestamp_m0': datetime.datetime(2025, 7, 23, 19, 1, 25, 510759), 'OrderID_m1': '1002', 'ProductID_m1': 'P72', 'ProductName_m1': 'Laptop Backpack', 'Category_m1': 'Accessories', 'SaleAmount_m1': 0.0, 'OriginalSaleAmount_m1': 0.0, 'OriginalCurrency_m1': 'EUR', 'ExchangeRate_m1': 1.17, 'OrderDate_m1': datetime.datetime(2023, 5, 1, 0, 0), 'Region_m1': 'West', 'CustomerID_m1': 'C101', 'Discount_m1': 0.0, 'Currency_m1': 'USD', 'ProcessingTimestamp_m1': datetime.datetime(2025, 7, 23, 19, 1, 25, 510759), 'OrderID_m2': '1003', 'ProductID_m2': 'P50', 'ProductName_m2': 'Wireless Mouse', 'Category_m2': 'Electronics', 'SaleAmount_m2': 13.5, 'OriginalSaleAmount_m2': 10.0, 'OriginalCurrency_m2': 'GBP', 'ExchangeRate_m2': 1.35, 'OrderDate_m2': datetime.datetime(2023, 6, 1, 0, 0), 'Region_m2': 'East', 'CustomerID_m2': 'C100', 'Discount_m2': 0.05, 'Currency_m2': 'USD', 'ProcessingTimestamp_m2': datetime.datetime(2025, 7, 23, 19, 1, 25, 510759), 'OrderID_m3': '1006', 'ProductID_m3': 'P72', 'ProductName_m3': 'Laptop Backpack', 'Category_m3': 'Accessories', 'SaleAmount_m3': 234.0, 'OriginalSaleAmount_m3': 200.0, 'OriginalCurrency_m3': 'EUR', 'ExchangeRate_m3': 1.17, 'OrderDate_m3': datetime.datetime(2023, 1, 13, 0, 0), 'Region_m3': 'West', 'CustomerID_m3': 'C101', 'Discount_m3': 0.15, 'Currency_m3': 'USD', 'ProcessingTimestamp_m3': datetime.datetime(2025, 7, 23, 19, 1, 25, 510759), 'OrderID_m4': '1007', 'ProductID_m4': 'P12', 'ProductName_m4': 'Notebook Stationery', 'Category_m4': 'Office Supplies', 'SaleAmount_m4': 162.0, 'OriginalSaleAmount_m4': 120.0, 'OriginalCurrency_m4': 'GBP', 'ExchangeRate_m4': 1.35, 'OrderDate_m4': datetime.datetime(2023, 5, 1, 0, 0), 'Region_m4': 'East', 'CustomerID_m4': 'C105', 'Discount_m4': 0.1, 'Currency_m4': 'USD', 'ProcessingTimestamp_m4': datetime.datetime(2025, 7, 23, 19, 1, 25, 510759), 'OrderID_m5': '1008', 'ProductID_m5': 'P88', 'ProductName_m5': 'Monitor Stand', 'Category_m5': 'Office Supplies', 'SaleAmount_m5': 300.0, 'OriginalSaleAmount_m5': 300.0, 'OriginalCurrency_m5': 'USD', 'ExchangeRate_m5': 1.0, 'OrderDate_m5': datetime.datetime(2023, 5, 2, 0, 0), 'Region_m5': 'North', 'CustomerID_m5': 'C106', 'Discount_m5': 0.0, 'Currency_m5': 'USD', 'ProcessingTimestamp_m5': datetime.datetime(2025, 7, 23, 19, 1, 25, 510759), 'OrderID_m6': '1009', 'ProductID_m6': 'P77', 'ProductName_m6': 'Portable Speaker', 'Category_m6': 'Electronics', 'SaleAmount_m6': 0.0, 'OriginalSaleAmount_m6': 0.0, 'OriginalCurrency_m6': 'USD', 'ExchangeRate_m6': 1.0, 'OrderDate_m6': datetime.datetime(2023, 5, 3, 0, 0), 'Region_m6': 'South', 'CustomerID_m6': 'C107', 'Discount_m6': 0.0, 'Currency_m6': 'USD', 'ProcessingTimestamp_m6': datetime.datetime(2025, 7, 23, 19, 1, 25, 510759), 'OrderID_m7': '1010', 'ProductID_m7': 'P45', 'ProductName_m7': 'Smartphone Charger', 'Category_m7': 'Electronics', 'SaleAmount_m7': 450.0, 'OriginalSaleAmount_m7': 450.0, 'OriginalCurrency_m7': 'USD', 'ExchangeRate_m7': 1.0, 'OrderDate_m7': datetime.datetime(2023, 5, 5, 0, 0), 'Region_m7': 'West', 'CustomerID_m7': 'C108', 'Discount_m7': 0.05, 'Currency_m7': 'USD', 'ProcessingTimestamp_m7': datetime.datetime(2025, 7, 23, 19, 1, 25, 510759), 'OrderID_m8': '1011', 'ProductID_m8': 'P11', 'ProductName_m8': 'Pen Set', 'Category_m8': 'Office Supplies', 'SaleAmount_m8': 250.0, 'OriginalSaleAmount_m8': 250.0, 'OriginalCurrency_m8': 'USD', 'ExchangeRate_m8': 1.0, 'OrderDate_m8': datetime.datetime(2023, 6, 1, 0, 0), 'Region_m8': 'North', 'CustomerID_m8': 'C109', 'Discount_m8': 0.15, 'Currency_m8': 'USD', 'ProcessingTimestamp_m8': datetime.datetime(2025, 7, 23, 19, 1, 25, 510759), 'OrderID_m9': '1012', 'ProductID_m9': 'P66', 'ProductName_m9': 'Wireless Keyboard', 'Category_m9': 'Electronics', 'SaleAmount_m9': 283.5, 'OriginalSaleAmount_m9': 210.0, 'OriginalCurrency_m9': 'GBP', 'ExchangeRate_m9': 1.35, 'OrderDate_m9': datetime.datetime(2023, 6, 2, 0, 0), 'Region_m9': 'East', 'CustomerID_m9': 'C110', 'Discount_m9': 0.0, 'Currency_m9': 'USD', 'ProcessingTimestamp_m9': datetime.datetime(2025, 7, 23, 19, 1, 25, 510759), 'OrderID_m10': '1013', 'ProductID_m10': 'P72', 'ProductName_m10': 'Laptop Backpack', 'Category_m10': 'Accessories', 'SaleAmount_m10': 205.3, 'OriginalSaleAmount_m10': 175.5, 'OriginalCurrency_m10': 'EUR', 'ExchangeRate_m10': 1.17, 'OrderDate_m10': datetime.datetime(2023, 6, 3, 0, 0), 'Region_m10': 'West', 'CustomerID_m10': 'C111', 'Discount_m10': 0.1, 'Currency_m10': 'USD', 'ProcessingTimestamp_m10': datetime.datetime(2025, 7, 23, 19, 1, 25, 510759), 'OrderID_m11': '1014', 'ProductID_m11': 'P23', 'ProductName_m11': 'Laptop Stand', 'Category_m11': 'Accessories', 'SaleAmount_m11': 0.0, 'OriginalSaleAmount_m11': 0.0, 'OriginalCurrency_m11': 'EUR', 'ExchangeRate_m11': 1.17, 'OrderDate_m11': datetime.datetime(2023, 7, 1, 0, 0), 'Region_m11': 'East', 'CustomerID_m11': 'C112', 'Discount_m11': 0.0, 'Currency_m11': 'USD', 'ProcessingTimestamp_m11': datetime.datetime(2025, 7, 23, 19, 1, 25, 510759), 'OrderID_m12': '1015', 'ProductID_m12': 'P99', 'ProductName_m12': 'USB Hub', 'Category_m12': 'Electronics', 'SaleAmount_m12': 25.0, 'OriginalSaleAmount_m12': 25.0, 'OriginalCurrency_m12': 'USD', 'ExchangeRate_m12': 1.0, 'OrderDate_m12': datetime.datetime(2023, 7, 5, 0, 0), 'Region_m12': 'South', 'CustomerID_m12': 'C113', 'Discount_m12': 0.2, 'Currency_m12': 'USD', 'ProcessingTimestamp_m12': datetime.datetime(2025, 7, 23, 19, 1, 25, 510759), 'OrderID_m13': '1016', 'ProductID_m13': 'P88', 'ProductName_m13': 'Monitor Stand', 'Category_m13': 'Office Supplies', 'SaleAmount_m13': 300.0, 'OriginalSaleAmount_m13': 300.0, 'OriginalCurrency_m13': 'USD', 'ExchangeRate_m13': 1.0, 'OrderDate_m13': datetime.datetime(2023, 7, 6, 0, 0), 'Region_m13': 'North', 'CustomerID_m13': 'C114', 'Discount_m13': 0.1, 'Currency_m13': 'USD', 'ProcessingTimestamp_m13': datetime.datetime(2025, 7, 23, 19, 1, 25, 510759), 'OrderID_m14': '1017', 'ProductID_m14': 'P50', 'ProductName_m14': 'Wireless Mouse', 'Category_m14': 'Electronics', 'SaleAmount_m14': 290.3, 'OriginalSaleAmount_m14': 215.0, 'OriginalCurrency_m14': 'GBP', 'ExchangeRate_m14': 1.35, 'OrderDate_m14': datetime.datetime(2023, 7, 7, 0, 0), 'Region_m14': 'East', 'CustomerID_m14': 'C115', 'Discount_m14': 0.0, 'Currency_m14': 'USD', 'ProcessingTimestamp_m14': datetime.datetime(2025, 7, 23, 19, 1, 25, 510759), 'OrderID_m15': '1018', 'ProductID_m15': 'P23', 'ProductName_m15': 'Laptop Stand', 'Category_m15': 'Accessories', 'SaleAmount_m15': 122.9, 'OriginalSaleAmount_m15': 105.0, 'OriginalCurrency_m15': 'EUR', 'ExchangeRate_m15': 1.17, 'OrderDate_m15': datetime.datetime(2023, 7, 8, 0, 0), 'Region_m15': 'South', 'CustomerID_m15': 'C116', 'Discount_m15': 0.05, 'Currency_m15': 'USD', 'ProcessingTimestamp_m15': datetime.datetime(2025, 7, 23, 19, 1, 25, 510759), 'OrderID_m16': '1019', 'ProductID_m16': 'P72', 'ProductName_m16': 'Laptop Backpack', 'Category_m16': 'Accessories', 'SaleAmount_m16': 140.0, 'OriginalSaleAmount_m16': 140.0, 'OriginalCurrency_m16': 'USD', 'ExchangeRate_m16': 1.0, 'OrderDate_m16': datetime.datetime(2023, 7, 9, 0, 0), 'Region_m16': 'West', 'CustomerID_m16': 'C117', 'Discount_m16': 0.15, 'Currency_m16': 'USD', 'ProcessingTimestamp_m16': datetime.datetime(2025, 7, 23, 19, 1, 25, 510759)}]\n",
      "(Background on this error at: https://sqlalche.me/e/14/gkpj)\n",
      "2025-07-23 19:01:28,350 - console_console - ERROR - Failed to load data into SalesData\n",
      "2025-07-23 19:01:28,352 - console_console - INFO - Loading error records into ErrorLogging\n",
      "2025-07-23 19:01:28,425 - console_console - INFO - Successfully loaded 2 rows into ErrorLogging\n",
      "2025-07-23 19:01:28,426 - console_console - INFO - Successfully loaded 2 error records into ErrorLogging\n",
      "2025-07-23 19:01:28,428 - console_console - INFO - Loading 2 currency conversion logs into CurrencyConversionLog\n",
      "2025-07-23 19:01:28,456 - console_console - INFO - Successfully loaded 2 rows into CurrencyConversionLog\n",
      "2025-07-23 19:01:28,457 - console_console - INFO - Successfully loaded 2 conversion logs into CurrencyConversionLog\n",
      "2025-07-23 19:01:28,459 - console_console - ERROR - Data loading failed\n",
      "2025-07-23 19:01:28,461 - console_console - INFO - Data loading completed in 0.91 seconds. Sales loaded: 0, Errors loaded: 2, Conversion logs loaded: 2\n",
      "2025-07-23 19:01:28,713 - console_console - INFO - Pipeline completed: SalesETLPipeline in 24.45 seconds\n",
      "2025-07-23 19:01:28,716 - console_console - INFO - === PIPELINE COMPLETED SUCCESSFULLY ===\n",
      "2025-07-23 19:01:28,719 - console_console - INFO - Total execution time: 24.45 seconds\n",
      "2025-07-23 19:01:28,721 - console_console - INFO - Final records processed: 17\n",
      "2025-07-23 19:01:28,722 - console_console - INFO - Pipeline metrics summary: {'pipeline_name': 'SalesETLPipeline', 'start_timestamp': '2025-07-23T19:01:04.014714', 'stages': {'ingestion': {'duration_seconds': 8.180716276168823, 'success': True, 'records_processed': 20, 'product_records': 10}, 'cleaning': {'duration_seconds': 4.442261695861816, 'success': True, 'initial_records': 20, 'final_records': 17, 'rejected_records': 2, 'rejection_rate': 10.0, 'duplicates_removed': 1}, 'enrichment': {'duration_seconds': 6.2749035358428955, 'success': True, 'initial_records': 17, 'final_records': 17, 'product_enrichment_enabled': True, 'currency_conversion_enabled': True, 'currency_converted_records': 8}, 'loading': {'duration_seconds': 0.9112632274627686, 'success': False, 'sales_records_loaded': 0, 'error_records_loaded': 2, 'conversion_logs_loaded': 2}}, 'overall_success': True, 'total_duration_seconds': 24.44725489616394, 'end_timestamp': '2025-07-23T19:01:28.461969', 'final_record_count': 17}\n",
      "2025-07-23 19:01:29,692 - console_console - INFO - Spark session stopped\n",
      "2025-07-23 19:01:29,700 - console_console - INFO - Saved pipeline metrics to: data/processed/pipeline_metrics.json\n"
     ]
    },
    {
     "data": {
      "text/markdown": [
       "```\n",
       "============================================================\n",
       "ETL PIPELINE EXECUTION REPORT\n",
       "============================================================\n",
       "\n",
       "OVERALL SUMMARY:\n",
       "  Pipeline Name: SalesETLPipeline\n",
       "  Start Time: 2025-07-23T19:01:04.014714\n",
       "  End Time: 2025-07-23T19:01:28.461969\n",
       "  Total Duration: 24.45 seconds\n",
       "  Success: Yes\n",
       "  Final Records: 17\n",
       "\n",
       "STAGE DETAILS:\n",
       "  INGESTION:\n",
       "    Duration: 8.18 seconds\n",
       "    Success: Yes\n",
       "    Sales Records: 20\n",
       "    Product Records: 10\n",
       "\n",
       "  CLEANING:\n",
       "    Duration: 4.44 seconds\n",
       "    Success: Yes\n",
       "    Initial Records: 20\n",
       "    Final Records: 17\n",
       "    Rejected Records: 2\n",
       "    Rejection Rate: 10.00%\n",
       "    Duplicates Removed: 1\n",
       "\n",
       "  ENRICHMENT:\n",
       "    Duration: 6.27 seconds\n",
       "    Success: Yes\n",
       "    Initial Records: 17\n",
       "    Final Records: 17\n",
       "    Product Enrichment: Enabled\n",
       "    Currency Conversion: Enabled\n",
       "    Currency Converted: 8\n",
       "\n",
       "  LOADING:\n",
       "    Duration: 0.91 seconds\n",
       "    Success: No\n",
       "    Sales Records Loaded: 0\n",
       "    Error Records Loaded: 2\n",
       "    Conversion Logs Loaded: 2\n",
       "\n",
       "============================================================\n",
       "```"
      ],
      "text/plain": [
       "<IPython.core.display.Markdown object>"
      ]
     },
     "metadata": {},
     "output_type": "display_data"
    },
    {
     "name": "stdout",
     "output_type": "stream",
     "text": [
      "2025-07-23 19:01:29,709 - console_console - INFO - ✅ Pipeline completed successfully!\n",
      "2025-07-23 19:01:29,714 - console_console - INFO - Spark session stopped\n"
     ]
    }
   ],
   "source": [
    "logger.info(\"Configuration loaded\")\n",
    "\n",
    "try:\n",
    "    # Initialize pipeline with your existing class\n",
    "    pipeline = ETLPipeline()\n",
    "    \n",
    "    # Run the pipeline (your existing method)\n",
    "    metrics = pipeline.run_pipeline()\n",
    "    \n",
    "    # Save and display results\n",
    "    pipeline.save_pipeline_metrics(metrics)\n",
    "    report = pipeline.generate_pipeline_report(metrics)\n",
    "    \n",
    "    # Display in notebook\n",
    "    from IPython.display import Markdown\n",
    "    display(Markdown(f\"```\\n{report}\\n```\"))\n",
    "    \n",
    "    logger.info(\"✅ Pipeline completed successfully!\")\n",
    "    \n",
    "except Exception as e:\n",
    "    logger.error(f\"❌ Pipeline failed: {str(e)}\")\n",
    "    raise\n",
    "\n",
    "finally:\n",
    "    if 'pipeline' in locals():\n",
    "        pipeline._cleanup()\n"
   ]
  },
  {
   "cell_type": "code",
   "execution_count": null,
   "id": "6422bbf7-b8a9-42db-a1c8-8f945f0f9207",
   "metadata": {},
   "outputs": [],
   "source": []
  }
 ],
 "metadata": {
  "kernelspec": {
   "display_name": "Python 3 (ipykernel)",
   "language": "python",
   "name": "python3"
  },
  "language_info": {
   "codemirror_mode": {
    "name": "ipython",
    "version": 3
   },
   "file_extension": ".py",
   "mimetype": "text/x-python",
   "name": "python",
   "nbconvert_exporter": "python",
   "pygments_lexer": "ipython3",
   "version": "3.9.23"
  }
 },
 "nbformat": 4,
 "nbformat_minor": 5
}
