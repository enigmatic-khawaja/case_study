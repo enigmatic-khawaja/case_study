{
 "cells": [
  {
   "cell_type": "code",
   "execution_count": 1,
   "id": "e9059961",
   "metadata": {
    "tags": []
   },
   "outputs": [],
   "source": [
    "import sys\n",
    "import os\n",
    "sys.path.insert(0, os.path.abspath('../src'))"
   ]
  },
  {
   "cell_type": "code",
   "execution_count": 2,
   "id": "72da1229",
   "metadata": {
    "tags": []
   },
   "outputs": [],
   "source": [
    "# Import your existing modules\n",
    "from main import ETLPipeline\n",
    "from utils.config import get_config\n",
    "from utils.logging import get_logger\n",
    "\n",
    "# Initialize logging\n",
    "logger = get_logger(\"ETLNotebook\")"
   ]
  },
  {
   "cell_type": "code",
   "execution_count": 3,
   "id": "2d6b5575",
   "metadata": {
    "tags": []
   },
   "outputs": [
    {
     "name": "stdout",
     "output_type": "stream",
     "text": [
      "2025-07-22 13:24:24,499 - console_console - INFO - Configuration loaded\n",
      "2025-07-22 13:24:24,502 - console_console - INFO - Pipeline started: SalesETLPipeline\n",
      "2025-07-22 13:24:24,504 - console_console - INFO - Pipeline started at 2025-07-22T13:24:24.501505\n",
      "2025-07-22 13:24:24,506 - console_console - INFO - Loading configuration...\n",
      "2025-07-22 13:24:24,508 - console_console - INFO - Initializing Spark session...\n"
     ]
    },
    {
     "name": "stderr",
     "output_type": "stream",
     "text": [
      "Setting default log level to \"WARN\".\n",
      "To adjust logging level use sc.setLogLevel(newLevel). For SparkR, use setLogLevel(newLevel).\n",
      "25/07/22 13:24:27 WARN NativeCodeLoader: Unable to load native-hadoop library for your platform... using builtin-java classes where applicable\n"
     ]
    },
    {
     "name": "stdout",
     "output_type": "stream",
     "text": [
      "2025-07-22 13:24:28,925 - console_console - INFO - Spark session created with config: {}\n",
      "2025-07-22 13:24:28,926 - console_console - INFO - === STAGE 1: DATA INGESTION ===\n",
      "2025-07-22 13:24:28,928 - console_console - INFO - Starting data ingestion process.\n",
      "2025-07-22 13:24:28,930 - console_console - INFO - Starting data ingestion process\n",
      "2025-07-22 13:24:28,933 - console_console - INFO - Reading sales data from: data/raw/sales_data.csv\n",
      "2025-07-22 13:24:34,246 - console_console - INFO - Successfully read 20 sales records\n",
      "2025-07-22 13:24:34,249 - console_console - INFO - Reading product reference data from: data/raw/product_reference.csv\n",
      "2025-07-22 13:24:34,529 - console_console - INFO - Successfully read 10 product reference records\n",
      "2025-07-22 13:24:34,532 - console_console - INFO - Sales data schema validation passed\n",
      "2025-07-22 13:24:34,537 - console_console - INFO - Product reference schema validation passed\n",
      "2025-07-22 13:24:37,515 - console_console - INFO - Data summary: {'sales_records': 20, 'product_records': 10, 'null_counts': {'OrderID': 0, 'ProductID': 0, 'SaleAmount': 1, 'OrderDate': 1, 'Region': 0, 'Currency': 0}, 'unique_regions': 4, 'unique_currencies': 3, 'unique_products': 11, 'ingestion_timestamp': '2025-07-22T13:24:37.514013'}\n",
      "2025-07-22 13:24:37,528 - console_console - INFO - Saved data summary to: data/processed/raw_data_summary.json\n",
      "2025-07-22 13:24:37,531 - console_console - INFO - Data ingestion completed successfully\n",
      "2025-07-22 13:24:37,534 - console_console - INFO - Data ingestion completed in 8.60 seconds. Sales records: 20, Product records: 10\n",
      "2025-07-22 13:24:37,537 - console_console - INFO - === STAGE 2: DATA CLEANING ===\n",
      "2025-07-22 13:24:37,543 - console_console - INFO - Starting data cleaning process.\n",
      "2025-07-22 13:24:37,545 - console_console - INFO - Starting data cleaning process\n",
      "2025-07-22 13:24:37,977 - console_console - WARNING - Found 2 records with missing required fields\n"
     ]
    },
    {
     "name": "stderr",
     "output_type": "stream",
     "text": [
      "                                                                                \r"
     ]
    },
    {
     "name": "stdout",
     "output_type": "stream",
     "text": [
      "2025-07-22 13:24:41,579 - console_console - INFO - Removed 1 duplicate records\n",
      "2025-07-22 13:24:42,014 - console_console - INFO - Using rejection rate threshold: 15.00%\n",
      "2025-07-22 13:24:42,017 - console_console - INFO - Data cleaning completed. Final records: 17\n",
      "2025-07-22 13:24:42,020 - console_console - INFO - Data validation completed: 17/20 records valid (10.00% error rate)\n",
      "2025-07-22 13:24:42,057 - console_console - INFO - Saved 2 rejected records to data/rejected/rejected_records.csv\n",
      "2025-07-22 13:24:42,059 - console_console - INFO - Data cleaning completed in 4.52 seconds. Initial: 20, Final: 17, Rejected: 2\n",
      "2025-07-22 13:24:42,061 - console_console - INFO - === STAGE 3: DATA ENRICHMENT ===\n",
      "2025-07-22 13:24:42,065 - console_console - INFO - Starting data enrichment process.\n",
      "2025-07-22 13:24:42,067 - console_console - INFO - Starting data enrichment process\n",
      "2025-07-22 13:24:42,456 - console_console - INFO - Initial records for enrichment: 17\n",
      "2025-07-22 13:24:42,458 - console_console - INFO - Starting product enrichment...\n",
      "2025-07-22 13:24:42,460 - console_console - INFO - Starting product data enrichment\n",
      "2025-07-22 13:24:43,311 - console_console - INFO - Product enrichment completed: 17/17 records enriched\n",
      "2025-07-22 13:24:43,665 - console_console - INFO - Product enrichment complete. Product-enriched records: 17\n",
      "2025-07-22 13:24:43,668 - console_console - INFO - Starting currency conversion...\n",
      "2025-07-22 13:24:43,670 - console_console - INFO - Starting currency conversion\n",
      "2025-07-22 13:24:44,182 - console_console - INFO - Pre-fetching exchange rates for currencies: ['GBP', 'EUR']\n",
      "2025-07-22 13:24:44,836 - console_console - INFO - Currency conversion: GBP -> USD (rate: 1.35)\n",
      "2025-07-22 13:24:45,382 - console_console - INFO - Currency conversion: EUR -> USD (rate: 1.17)\n",
      "2025-07-22 13:24:46,161 - console_console - INFO - Currency conversion completed: 8/17 records converted\n",
      "2025-07-22 13:24:46,592 - console_console - INFO - Currency conversion complete. Converted records: 8\n",
      "2025-07-22 13:24:46,595 - console_console - INFO - Adding processing metadata...\n",
      "2025-07-22 13:24:46,724 - console_console - INFO - Added processing metadata\n",
      "2025-07-22 13:24:46,726 - console_console - INFO - Processing metadata added.\n",
      "2025-07-22 13:24:46,728 - console_console - INFO - Finalizing sales data formatting...\n",
      "2025-07-22 13:24:46,796 - console_console - INFO - Sales data formatting finalized.\n",
      "2025-07-22 13:24:47,079 - console_console - INFO - Data enrichment completed. Final records: 17\n",
      "2025-07-22 13:24:47,086 - console_console - INFO - Enrichment summary saved to data/processed/enrichment_summary.json\n",
      "2025-07-22 13:24:48,380 - console_console - INFO - Processed (enriched) records saved to CSV at data/processed/cleaned_sales_data.csv\n",
      "2025-07-22 13:24:48,382 - console_console - INFO - === STAGE 4: DATA LOADING ===\n",
      "2025-07-22 13:24:48,385 - console_console - INFO - Starting data loading process.\n",
      "2025-07-22 13:24:48,387 - console_console - INFO - Starting data loading process\n",
      "2025-07-22 13:24:48,388 - console_console - INFO - Creating database schema\n",
      "2025-07-22 13:24:48,510 - console_console - INFO - Ensured ETLDatabase exists.\n",
      "2025-07-22 13:24:48,537 - console_console - INFO - Database engine created successfully for ETLDatabase.\n",
      "2025-07-22 13:24:48,649 - console_console - INFO - Database schema created successfully. Tables: []\n",
      "2025-07-22 13:24:48,651 - console_console - INFO - Loading sales data into SalesData\n",
      "2025-07-22 13:24:49,046 - console_console - ERROR - Failed to load sales data into SalesData | TypeError: Casting to unit-less dtype 'datetime64' is not supported. Pass e.g. 'datetime64[ns]' instead.\n",
      "2025-07-22 13:24:49,048 - console_console - INFO - Loading error records into ErrorLogging\n",
      "2025-07-22 13:24:49,110 - console_console - INFO - Successfully loaded 2 rows into ErrorLogging\n",
      "2025-07-22 13:24:49,112 - console_console - INFO - Successfully loaded 2 error records into ErrorLogging\n",
      "2025-07-22 13:24:49,113 - console_console - INFO - Loading 2 currency conversion logs into CurrencyConversionLog\n",
      "2025-07-22 13:24:49,148 - console_console - INFO - Successfully loaded 2 rows into CurrencyConversionLog\n",
      "2025-07-22 13:24:49,150 - console_console - INFO - Successfully loaded 2 conversion logs into CurrencyConversionLog\n",
      "2025-07-22 13:24:49,151 - console_console - ERROR - Data loading failed\n",
      "2025-07-22 13:24:49,152 - console_console - INFO - Data loading completed in 0.77 seconds. Sales loaded: 0, Errors loaded: 2, Conversion logs loaded: 2\n",
      "2025-07-22 13:24:49,446 - console_console - INFO - Pipeline completed: SalesETLPipeline in 24.65 seconds\n",
      "2025-07-22 13:24:49,449 - console_console - INFO - === PIPELINE COMPLETED SUCCESSFULLY ===\n",
      "2025-07-22 13:24:49,450 - console_console - INFO - Total execution time: 24.65 seconds\n",
      "2025-07-22 13:24:49,452 - console_console - INFO - Final records processed: 17\n",
      "2025-07-22 13:24:49,454 - console_console - INFO - Pipeline metrics summary: {'pipeline_name': 'SalesETLPipeline', 'start_timestamp': '2025-07-22T13:24:24.501505', 'stages': {'ingestion': {'duration_seconds': 8.604999303817749, 'success': True, 'records_processed': 20, 'product_records': 10}, 'cleaning': {'duration_seconds': 4.519713878631592, 'success': True, 'initial_records': 20, 'final_records': 17, 'rejected_records': 2, 'rejection_rate': 10.0, 'duplicates_removed': 1}, 'enrichment': {'duration_seconds': 6.318549156188965, 'success': True, 'initial_records': 17, 'final_records': 17, 'product_enrichment_enabled': True, 'currency_conversion_enabled': True, 'currency_converted_records': 8}, 'loading': {'duration_seconds': 0.7688570022583008, 'success': False, 'sales_records_loaded': 0, 'error_records_loaded': 2, 'conversion_logs_loaded': 2}}, 'overall_success': True, 'total_duration_seconds': 24.652194261550903, 'end_timestamp': '2025-07-22T13:24:49.153699', 'final_record_count': 17}\n",
      "2025-07-22 13:24:50,413 - console_console - INFO - Spark session stopped\n",
      "2025-07-22 13:24:50,421 - console_console - INFO - Saved pipeline metrics to: data/processed/pipeline_metrics.json\n"
     ]
    },
    {
     "data": {
      "text/markdown": [
       "```\n",
       "============================================================\n",
       "ETL PIPELINE EXECUTION REPORT\n",
       "============================================================\n",
       "\n",
       "OVERALL SUMMARY:\n",
       "  Pipeline Name: SalesETLPipeline\n",
       "  Start Time: 2025-07-22T13:24:24.501505\n",
       "  End Time: 2025-07-22T13:24:49.153699\n",
       "  Total Duration: 24.65 seconds\n",
       "  Success: Yes\n",
       "  Final Records: 17\n",
       "\n",
       "STAGE DETAILS:\n",
       "  INGESTION:\n",
       "    Duration: 8.60 seconds\n",
       "    Success: Yes\n",
       "    Sales Records: 20\n",
       "    Product Records: 10\n",
       "\n",
       "  CLEANING:\n",
       "    Duration: 4.52 seconds\n",
       "    Success: Yes\n",
       "    Initial Records: 20\n",
       "    Final Records: 17\n",
       "    Rejected Records: 2\n",
       "    Rejection Rate: 10.00%\n",
       "    Duplicates Removed: 1\n",
       "\n",
       "  ENRICHMENT:\n",
       "    Duration: 6.32 seconds\n",
       "    Success: Yes\n",
       "    Initial Records: 17\n",
       "    Final Records: 17\n",
       "    Product Enrichment: Enabled\n",
       "    Currency Conversion: Enabled\n",
       "    Currency Converted: 8\n",
       "\n",
       "  LOADING:\n",
       "    Duration: 0.77 seconds\n",
       "    Success: No\n",
       "    Sales Records Loaded: 0\n",
       "    Error Records Loaded: 2\n",
       "    Conversion Logs Loaded: 2\n",
       "\n",
       "============================================================\n",
       "```"
      ],
      "text/plain": [
       "<IPython.core.display.Markdown object>"
      ]
     },
     "metadata": {},
     "output_type": "display_data"
    },
    {
     "name": "stdout",
     "output_type": "stream",
     "text": [
      "2025-07-22 13:24:50,434 - console_console - INFO - ✅ Pipeline completed successfully!\n",
      "2025-07-22 13:24:50,442 - console_console - INFO - Spark session stopped\n"
     ]
    }
   ],
   "source": [
    "logger.info(\"Configuration loaded\")\n",
    "\n",
    "try:\n",
    "    # Initialize pipeline with your existing class\n",
    "    pipeline = ETLPipeline()\n",
    "    \n",
    "    # Run the pipeline (your existing method)\n",
    "    metrics = pipeline.run_pipeline()\n",
    "    \n",
    "    # Save and display results\n",
    "    pipeline.save_pipeline_metrics(metrics)\n",
    "    report = pipeline.generate_pipeline_report(metrics)\n",
    "    \n",
    "    # Display in notebook\n",
    "    from IPython.display import Markdown\n",
    "    display(Markdown(f\"```\\n{report}\\n```\"))\n",
    "    \n",
    "    logger.info(\"✅ Pipeline completed successfully!\")\n",
    "    \n",
    "except Exception as e:\n",
    "    logger.error(f\"❌ Pipeline failed: {str(e)}\")\n",
    "    raise\n",
    "\n",
    "finally:\n",
    "    if 'pipeline' in locals():\n",
    "        pipeline._cleanup()\n"
   ]
  },
  {
   "cell_type": "code",
   "execution_count": null,
   "id": "6edd299a-f3f5-4f48-8dee-3c6ed091f9c9",
   "metadata": {},
   "outputs": [],
   "source": []
  }
 ],
 "metadata": {
  "kernelspec": {
   "display_name": "Python 3 (ipykernel)",
   "language": "python",
   "name": "python3"
  },
  "language_info": {
   "codemirror_mode": {
    "name": "ipython",
    "version": 3
   },
   "file_extension": ".py",
   "mimetype": "text/x-python",
   "name": "python",
   "nbconvert_exporter": "python",
   "pygments_lexer": "ipython3",
   "version": "3.9.23"
  }
 },
 "nbformat": 4,
 "nbformat_minor": 5
}
