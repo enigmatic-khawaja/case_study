{
 "cells": [
  {
   "cell_type": "markdown",
   "id": "611f25ba",
   "metadata": {},
   "source": []
  },
  {
   "cell_type": "code",
   "execution_count": 6,
   "id": "e9059961",
   "metadata": {},
   "outputs": [],
   "source": [
    "import sys\n",
    "import os\n",
    "sys.path.insert(0, os.path.abspath('../src'))"
   ]
  },
  {
   "cell_type": "code",
   "execution_count": null,
   "id": "72da1229",
   "metadata": {},
   "outputs": [],
   "source": [
    "# Import your existing modules\n",
    "from main import ETLPipeline\n",
    "from utils.config import get_config\n",
    "from utils.logging import get_logger\n",
    "\n",
    "# Initialize logging\n",
    "logger = get_logger(\"ETLNotebook\")"
   ]
  },
  {
   "cell_type": "code",
   "execution_count": null,
   "id": "2d6b5575",
   "metadata": {},
   "outputs": [],
   "source": [
    "logger.info(\"Configuration loaded\")\n",
    "\n",
    "# COMMAND ----------\n",
    "\n",
    "# In[3]: Initialize and Run Pipeline\n",
    "\n",
    "try:\n",
    "    # Initialize pipeline with your existing class\n",
    "    pipeline = ETLPipeline()\n",
    "    \n",
    "    # Run the pipeline (your existing method)\n",
    "    metrics = pipeline.run_pipeline()\n",
    "    \n",
    "    # Save and display results\n",
    "    pipeline.save_pipeline_metrics(metrics)\n",
    "    report = pipeline.generate_pipeline_report(metrics)\n",
    "    \n",
    "    # Display in notebook\n",
    "    from IPython.display import Markdown\n",
    "    display(Markdown(f\"```\\n{report}\\n```\"))\n",
    "    \n",
    "    logger.info(\"✅ Pipeline completed successfully!\")\n",
    "    \n",
    "except Exception as e:\n",
    "    logger.error(f\"❌ Pipeline failed: {str(e)}\")\n",
    "    raise\n",
    "\n",
    "finally:\n",
    "    if 'pipeline' in locals():\n",
    "        pipeline._cleanup()\n"
   ]
  }
 ],
 "metadata": {
  "kernelspec": {
   "display_name": "Python 3",
   "language": "python",
   "name": "python3"
  },
  "language_info": {
   "codemirror_mode": {
    "name": "ipython",
    "version": 3
   },
   "file_extension": ".py",
   "mimetype": "text/x-python",
   "name": "python",
   "nbconvert_exporter": "python",
   "pygments_lexer": "ipython3",
   "version": "3.13.2"
  }
 },
 "nbformat": 4,
 "nbformat_minor": 5
}
